{
 "cells": [
  {
   "attachments": {},
   "cell_type": "markdown",
   "metadata": {},
   "source": [
    "# <ins>Power Hour: Python September 30, 2020 </ins># \n",
    " \n",
    "Today, we will be creating a to-do list. The idea is to take the fundamentals we learned in python 1 and create a basic but useful application. \n",
    " \n",
    "Upon running the code, the user will be provided with a prompt to perform one of many actions, including the following: \n",
    " - Add a task to the list. It should track the following:\n",
    "     - The name\n",
    "     - The due date\n",
    "     - Whether or not it is complete\n",
    " - Mark a to-do as complete\n",
    " - Print out all current to-dos\n",
    " - Tell you how many to-dos are complete\n",
    " - Tell you how many to-dos are incomplete\n",
    " - Close the app\n",
    " - If you have time, feel free to add more functionality! I can provide suggestions if you’d like.\n",
    "     - For example: Tell you how many to-dos are overdue\n",
    "     - Another: Remove a to-do from the list\n",
    "\n",
    "The attached .py and .ipynb files are set up for you with some hints provided. If you don't want any help at all, you can start from a new file (we can go over this if you need help). \n",
    " \n",
    "Feel free to ask questions throughout the session if you need help. If you finish early, I’d be happy to give you ideas on how to extend the project and challenge you with concepts we haven’t covered in the bootcamps. \n",
    " \n",
    "Good Luck!  "
   ]
  },
  {
   "cell_type": "code",
   "execution_count": null,
   "metadata": {},
   "outputs": [],
   "source": [
    "# Creata a todo class - parameters name, date and complete\n",
    "# You can put all your methods for what the app should do (from the spec) here as well!\n",
    "\n"
   ]
  },
  {
   "cell_type": "code",
   "execution_count": null,
   "metadata": {},
   "outputs": [],
   "source": [
    "# Have an infinite loop\n",
    "\n",
    "# Read user input\n",
    "\n",
    "# Decision structure based on input\n",
    "# Close app\n",
    "\n",
    "# Add a new too - use input again\n",
    "\n",
    "# Mark todo as complete - need input \n",
    "\n",
    "# Print out todos\n",
    "\n",
    "# Print completed todos\n",
    "\n",
    "# Print incompleted todos\n",
    "\n",
    "# EXTRA CHALLENGE Delete a todo - takes input as well\n",
    "\n",
    "# EXTRA CHALLENGE - Print overdue"
   ]
  }
 ],
 "metadata": {
  "kernelspec": {
   "display_name": "Python 3",
   "language": "python",
   "name": "python3"
  },
  "language_info": {
   "codemirror_mode": {
    "name": "ipython",
    "version": 3
   },
   "file_extension": ".py",
   "mimetype": "text/x-python",
   "name": "python",
   "nbconvert_exporter": "python",
   "pygments_lexer": "ipython3",
   "version": "3.7.6"
  }
 },
 "nbformat": 4,
 "nbformat_minor": 4
}