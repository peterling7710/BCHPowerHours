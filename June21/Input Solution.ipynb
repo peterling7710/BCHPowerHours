{
 "cells": [
  {
   "cell_type": "markdown",
   "metadata": {},
   "source": [
    "<h1>User Input</h1>\n",
    "<ul>\n",
    "  <li>\n",
    "     Pauses your program and waits for the user to enter some text\n",
    "  <li>\n",
    "    Variable used with Input() will be a <b>string</b> even if user inputs an integer\n",
    "  </li>\n",
    "  <ul><li>Will need to make use of <b>type casting.</b></li></ul>\n",
    "</ul>"
   ]
  },
  {
   "cell_type": "code",
   "execution_count": null,
   "metadata": {},
   "outputs": [],
   "source": [
    "#Ask user for their age\n",
    "my_age = input(\"Enter your age.\\n\")\n",
    "print(f\"Entered age is {my_age}\")"
   ]
  },
  {
   "cell_type": "markdown",
   "metadata": {},
   "source": [
    "<h1>Try it yourself</h1>\n",
    "<ul>\n",
    "  <li>\n",
    "     Prompt user for any number of integers, separated by commas\n",
    "  <li>\n",
    "     Calculate the average of the inputs, and output it to the user\n",
    "</ul>"
   ]
  },
  {
   "cell_type": "code",
   "execution_count": null,
   "metadata": {},
   "outputs": [],
   "source": [
    "# Ask user for list of numbers\n",
    "nums = input('Please Enter numbers, separated by commas:\\n')\n",
    "# Calculate list average\n",
    "list_nums = nums.split(',')\n",
    "f_nums = [float(i) for i in list_nums]\n",
    "avg = sum(f_nums)/len(f_nums)\n",
    "print(f'The average of the values you entered is: {avg}')"
   ]
  }
 ],
 "metadata": {
  "kernelspec": {
   "display_name": "Python 3",
   "language": "python",
   "name": "python3"
  },
  "language_info": {
   "codemirror_mode": {
    "name": "ipython",
    "version": 3
   },
   "file_extension": ".py",
   "mimetype": "text/x-python",
   "name": "python",
   "nbconvert_exporter": "python",
   "pygments_lexer": "ipython3",
   "version": "3.7.3"
  }
 },
 "nbformat": 4,
 "nbformat_minor": 4
}
