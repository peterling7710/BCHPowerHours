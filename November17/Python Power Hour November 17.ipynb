{
 "cells": [
  {
   "cell_type": "markdown",
   "metadata": {},
   "source": [
    "# <ins>Power Hour: Python  November 17, 2020 </ins># \n",
    " \n",
    "Today, we will be analyzing automotive data. We will be using concepts we learned in Python 3, specifically data vizualizations to generate valuable insights!\n",
    " \n",
    "By the end of the Power Hour we will have: \n",
    " - Performed basic data manipulation\n",
    " - Create a scatter plot\n",
    " - Use Relational plots to find useful insights in data \n",
    "\n",
    "Some hints are provided within the notebook but please ask questions at any time! \n",
    " \n",
    "If you finish early, I’d be happy to give you ideas on how to extend the project and challenge you with concepts we haven’t covered in the bootcamps. \n",
    "\n",
    "Good Luck!"
   ]
  },
  {
   "cell_type": "code",
   "execution_count": 1,
   "metadata": {},
   "outputs": [
    {
     "name": "stderr",
     "output_type": "stream",
     "text": [
      "C:\\ProgramData\\Anaconda3\\lib\\site-packages\\statsmodels\\tools\\_testing.py:19: FutureWarning: pandas.util.testing is deprecated. Use the functions in the public API at pandas.testing instead.\n",
      "  import pandas.util.testing as tm\n"
     ]
    }
   ],
   "source": [
    "# Import Pandas and plotting libraries\n",
    "import pandas as pd\n",
    "import numpy as np\n",
    "import matplotlib.pyplot as plt\n",
    "import seaborn as sns\n"
   ]
  },
  {
   "cell_type": "code",
   "execution_count": 1,
   "metadata": {},
   "outputs": [],
   "source": [
    "#1. Read data file from the data folder\n"
   ]
  },
  {
   "cell_type": "code",
   "execution_count": 2,
   "metadata": {},
   "outputs": [],
   "source": [
    "#Display your DataFrame"
   ]
  },
  {
   "cell_type": "code",
   "execution_count": 3,
   "metadata": {},
   "outputs": [],
   "source": [
    "#2. Begin by adding a new column to the new dataset named force, equal to the Weight * acceleration\n"
   ]
  },
  {
   "cell_type": "code",
   "execution_count": null,
   "metadata": {},
   "outputs": [],
   "source": []
  },
  {
   "cell_type": "code",
   "execution_count": 5,
   "metadata": {},
   "outputs": [],
   "source": [
    "#3. Let's plot the number of cars per company\n",
    "## Hint: Find the function to get the frequency of all values in a column first, then the function to plot.\n"
   ]
  },
  {
   "cell_type": "code",
   "execution_count": 6,
   "metadata": {},
   "outputs": [],
   "source": [
    "#4. Let's now look at the relationships of different features. Plot the weight of the car vs. the mpg\n",
    "\n",
    "#In your words, what can you determine from graph?\n",
    "#A:\n"
   ]
  },
  {
   "cell_type": "code",
   "execution_count": 7,
   "metadata": {},
   "outputs": [],
   "source": [
    "#5. Let's add some more detail, find a way to incorporate the number of cylinders in your analysis\n",
    "# i) Add a title to your plot as well\n",
    "\n",
    "\n",
    "#In your words, what can you determine from graph?\n",
    "#A:\n"
   ]
  },
  {
   "cell_type": "code",
   "execution_count": 8,
   "metadata": {},
   "outputs": [],
   "source": [
    "#6. Let's investigate the force, plot the force vs. MPG relationship for each origin.\n",
    "# i) Assing the color by origin as well for clarity\n",
    "\n"
   ]
  },
  {
   "cell_type": "code",
   "execution_count": null,
   "metadata": {},
   "outputs": [],
   "source": []
  }
 ],
 "metadata": {
  "kernelspec": {
   "display_name": "Python 3",
   "language": "python",
   "name": "python3"
  },
  "language_info": {
   "codemirror_mode": {
    "name": "ipython",
    "version": 3
   },
   "file_extension": ".py",
   "mimetype": "text/x-python",
   "name": "python",
   "nbconvert_exporter": "python",
   "pygments_lexer": "ipython3",
   "version": "3.7.3"
  }
 },
 "nbformat": 4,
 "nbformat_minor": 2
}
