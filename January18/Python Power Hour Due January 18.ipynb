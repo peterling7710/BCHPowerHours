{
 "cells": [
  {
   "cell_type": "code",
   "execution_count": null,
   "metadata": {},
   "outputs": [],
   "source": [
    "# Let's create a way to store a collection of data and functions to organise our stocks\n",
    "# We should store the stock ticker (it's name), it's current price, the price we bought it at,\n",
    "# and the price history. It might be good to have it's sector as well\n",
    "\n",
    "# Create a new stock\n",
    "\n",
    "# Change the price of the stock, \n",
    "# let's do it 3 ways. Either, providing a new price,\n",
    "# The monetary amount it changed by, or the percentage change\n",
    "# Make sure to add any changes to the price history!\n",
    "\n",
    "# Calculate ROI\n",
    "\n",
    "# Just like in Python 1, creating a text output to describe our stock will be nice to read!\n",
    "\n",
    "# Display the price history of the stock, as tracked by your changes"
   ]
  },
  {
   "cell_type": "code",
   "execution_count": null,
   "metadata": {},
   "outputs": [],
   "source": [
    "# Now, let's create methods that help us work with a list of stocks\n",
    "# total the value of all stocks\n",
    "\n",
    "# total how much you bought portfolio for\n",
    "\n",
    "# calculate your total return\n",
    "\n",
    "# Determine which sectors you're invested in\n",
    "\n",
    "# Use this to detemine the amount invested in each sector\n",
    "\n"
   ]
  },
  {
   "cell_type": "code",
   "execution_count": null,
   "metadata": {},
   "outputs": [],
   "source": [
    "# OPTIONAL - Make an app to test your code! \n",
    "# If you don't want to go through the trouble\n",
    "# Hard code in a couple of stocks, collect them together,\n",
    "# and test all the methods and functions you made!\n",
    "\n",
    "# Provide a nice prompt\n",
    "\n",
    "# Read user input\n",
    "\n",
    "# Decision structure based on input\n",
    "# Close app\n",
    "\n",
    "# Add a new stock - use input again\n",
    "\n",
    "# Mark todo as complete - need input \n",
    "\n",
    "# Check Portfolio value\n",
    "\n",
    "# Check your portfolio return\n",
    "\n",
    "# Print specific stock return\n",
    "\n",
    "# Print sectors invested in\n",
    "\n",
    "# Print investment by sector\n",
    "\n",
    "# Sell stock"
   ]
  }
 ],
 "metadata": {
  "kernelspec": {
   "display_name": "Python 3",
   "language": "python",
   "name": "python3"
  },
  "language_info": {
   "codemirror_mode": {
    "name": "ipython",
    "version": 3
   },
   "file_extension": ".py",
   "mimetype": "text/x-python",
   "name": "python",
   "nbconvert_exporter": "python",
   "pygments_lexer": "ipython3",
   "version": "3.8.5"
  }
 },
 "nbformat": 4,
 "nbformat_minor": 4
}
