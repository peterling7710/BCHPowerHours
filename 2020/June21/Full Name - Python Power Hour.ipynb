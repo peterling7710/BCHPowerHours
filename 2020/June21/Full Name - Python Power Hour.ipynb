{
 "cells": [
  {
   "cell_type": "markdown",
   "metadata": {},
   "source": [
    "# Problem Statement\n",
    "\n",
    "Upon running the code, the user will be provided with a prompt to perform one of many actions, including the following:\n",
    "* The user should be given an option to add a new bank account, with an account number and type (chequing, savings)\n",
    "* The user should be able to perform basic banking functions. At the very least, you she be able to:\n",
    "    * Make a deposit\n",
    "    * Make a withdrawal\n",
    "    * Transfer funds from one account to the other\n",
    "    * Get a report of all current account information\n",
    "    * Get the total amount of money between accounts\n",
    "    * Remove an account\n",
    "    * You can add additional features that you think would be useful!\n",
    "* Feel free to add appropriate error handling to make the user experience more responsive and intuitive\n",
    "* The user should also be able to exit anytime with the press of a button\n",
    "\n",
    "Feel free to ask questions throughout the session if you need help. If you finish early, I’d be happy to give you ideas on how to extend the project and challenge you with concepts we haven’t covered in the bootcamps.\n",
    "\n",
    "Good Luck! "
   ]
  },
  {
   "cell_type": "code",
   "execution_count": null,
   "metadata": {},
   "outputs": [],
   "source": [
    "# Create a definition of a bank account, and its functionality\n"
   ]
  },
  {
   "cell_type": "code",
   "execution_count": null,
   "metadata": {},
   "outputs": [],
   "source": [
    "#Create a loop that only breaks when the exit button is pressed\n",
    "\n",
    "# Display the options to the user\n",
    "# Ask for input\n",
    "\n",
    "# Check if the app should exit\n",
    "\n",
    "# Check which option was selected\n",
    "# Perform the correct task\n",
    "\n",
    "# Add new account\n",
    "\n",
    "# Deposit\n",
    "\n",
    "# Withdraw\n",
    "\n",
    "# Transfer\n",
    "\n",
    "# Single summary\n",
    "\n",
    "# Summary all\n",
    "\n",
    "# Total funds\n",
    "\n",
    "# Delete an account\n"
   ]
  }
 ],
 "metadata": {
  "kernelspec": {
   "display_name": "Python 3",
   "language": "python",
   "name": "python3"
  },
  "language_info": {
   "codemirror_mode": {
    "name": "ipython",
    "version": 3
   },
   "file_extension": ".py",
   "mimetype": "text/x-python",
   "name": "python",
   "nbconvert_exporter": "python",
   "pygments_lexer": "ipython3",
   "version": "3.7.3"
  }
 },
 "nbformat": 4,
 "nbformat_minor": 4
}
