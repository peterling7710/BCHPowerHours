{
 "cells": [
  {
   "cell_type": "markdown",
   "metadata": {},
   "source": [
    "<h1>User Input</h1>\n",
    "<ul>\n",
    "  <li>\n",
    "     Pauses your program and waits for the user to enter some text\n",
    "  <li>\n",
    "    Variable used with Input() will be a <b>string</b> even if user inputs an integer\n",
    "  </li>\n",
    "  <ul><li>Will need to make use of <b>type casting.</b></li></ul>\n",
    "</ul>"
   ]
  },
  {
   "cell_type": "code",
   "execution_count": 2,
   "metadata": {},
   "outputs": [
    {
     "name": "stdout",
     "output_type": "stream",
     "text": [
      "Enter your age.\n",
      "12\n",
      "Entered age is 12\n",
      "28\n"
     ]
    }
   ],
   "source": [
    "#Ask user for their age\n",
    "my_age = input(\"Enter your age.\\n\")\n",
    "print(f\"Entered age is {my_age}\")"
   ]
  },
  {
   "cell_type": "markdown",
   "metadata": {},
   "source": [
    "## <h1>Try it yourself</h1>\n",
    "<ul>\n",
    "  <li>\n",
    "     Prompt user for any number of integers, separated by commas\n",
    "  <li>\n",
    "     Calculate the average of the inputs, and output it to the user\n",
    "</ul>"
   ]
  },
  {
   "cell_type": "code",
   "execution_count": null,
   "metadata": {},
   "outputs": [],
   "source": [
    "# Ask user for list of numbers\n",
    "\n",
    "# Calculate list average\n"
   ]
  }
 ],
 "metadata": {
  "kernelspec": {
   "display_name": "Python 3",
   "language": "python",
   "name": "python3"
  },
  "language_info": {
   "codemirror_mode": {
    "name": "ipython",
    "version": 3
   },
   "file_extension": ".py",
   "mimetype": "text/x-python",
   "name": "python",
   "nbconvert_exporter": "python",
   "pygments_lexer": "ipython3",
   "version": "3.7.6"
  }
 },
 "nbformat": 4,
 "nbformat_minor": 4
}
